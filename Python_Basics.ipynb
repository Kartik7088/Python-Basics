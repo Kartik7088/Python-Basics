{
  "cells": [
    {
      "cell_type": "code",
      "execution_count": null,
      "metadata": {
        "id": "1QuX2xMGNEWb"
      },
      "outputs": [],
      "source": []
    },
    {
      "cell_type": "markdown",
      "metadata": {
        "id": "M8H3uL3FNO-K"
      },
      "source": [
        "# Python Basics"
      ]
    },
    {
      "cell_type": "markdown",
      "metadata": {
        "id": "XLOkK1MkNZuA"
      },
      "source": [
        "1. What is Python, and why is it popular?\n",
        "    -  Python is a programming language used to communicate with machines or computers. For example, just as humans need a language to communicate (e.g., saying, \"My name is Kartik\" by learning the words my, name, is, and Kartik to form a sentence), programmers use programming languages like Python to give instructions to computers. Proper knowledge of programming languages helps us effectively interact with machines.\n",
        "\n",
        "  Python is popular because of its simplicity, readability, and ease of use. It is beginner-friendly and can be used by programmers with basic knowledge of coding. Moreover, Python is versatile and widely used in various fields such as web development, data science, artificial intelligence, automation, and more."
      ]
    },
    {
      "cell_type": "markdown",
      "metadata": {
        "id": "GJi5TesWPkrF"
      },
      "source": [
        "2. What is an interpreter in Python?\n",
        "\n",
        "-  An interpreter in Python is a program that reads and executes Python code\n",
        "  line by line. It translates the high-level Python code into a format that the computer's processor can understand and execute directly.\n",
        "\n",
        " The Python interpreter allows dynamic execution, meaning you can write and run Python code without needing to compile it first. This makes Python suitable for scripting, debugging, and interactive programming.\n",
        "\n",
        " For example, when you write a Python script, the interpreter processes your code step by step, checking for errors and executing instructions in the order they appear.\n",
        "\n",
        " Popular Python interpreters include CPython (the standard implementation of Python), PyPy, and Jython."
      ]
    },
    {
      "cell_type": "markdown",
      "metadata": {
        "id": "xQ6Kjb4uQJik"
      },
      "source": [
        "3. What are pre-defined keywords in Python?\n",
        "-  Pre-defined keywords in Python are reserved words that have specific  \n",
        "   meanings and purposes within the Python language. These keywords cannot be used as variable names, function names, or identifiers because they are part of Python's syntax and structure.\n",
        "\n",
        "  Examples of Python keywords include:\n",
        "\n",
        "  Logical operators: and, or, not\n",
        "  Control flow statements: if, else, elif, for, while\n",
        "  Boolean values: True, False\n",
        "  Other important keywords: def, class, import, return, break, continue, pass, etc.\n",
        "  These keywords are essential for writing Python programs as they define the logic and flow of the code. For instance:"
      ]
    },
    {
      "cell_type": "markdown",
      "metadata": {
        "id": "PeYsvkOxSAiY"
      },
      "source": [
        "4. Can keywords be used as variable names?\n",
        "\n",
        "-  No, keywords cannot be used as variable names in Python because they are\n",
        "   reserved words with specific meanings and purposes in the Python language.\n",
        "   Keywords are essential for defining the syntax and structure of Python programs,\n",
        "   so using them as variable names would cause errors."
      ]
    },
    {
      "cell_type": "markdown",
      "metadata": {
        "id": "eRdBSRnrSMgV"
      },
      "source": [
        "5. What is mutability in Python?\n",
        "-  Mutability in Python refers to the ability of an object to be changed after it is created. If an object is mutable, you can modify its content (e.g., add, remove, or change elements) without creating a new object.\n",
        "\n",
        "Examples of mutable data types in Python:\n",
        "\n",
        "List\n",
        "Dictionary\n",
        "Set"
      ]
    },
    {
      "cell_type": "markdown",
      "metadata": {
        "id": "HQGK4rPiS6iI"
      },
      "source": [
        "6. Why are lists mutable, but tuples are immutable?\n",
        "-  The main difference between lists and tuples lies in their mutability:\n",
        "\n",
        "Lists are mutable: This means that the elements of a list can be changed, added, or removed after the list is created. Python allows this because lists are designed to handle dynamic data where changes are often required.\n",
        "\n",
        "Tuples are immutable: This means that once a tuple is created, its elements cannot be modified, added, or removed. Python enforces immutability for tuples because they are intended to represent fixed collections of data that shouldn't change, ensuring data integrity and faster performance in certain scenarios."
      ]
    },
    {
      "cell_type": "markdown",
      "metadata": {
        "id": "WkJU-lkxTUcF"
      },
      "source": [
        "7.  What is the difference between “==” and “is” operators in Python?\n",
        "-   == (Equality operator):\n",
        "\n",
        "The == operator checks if the values of two objects are equal.\n",
        "It compares the content of the objects, regardless of whether they are stored in the same memory location.\n",
        "\n",
        "    is (Identity operator):\n",
        "\n",
        "The is operator checks if two objects refer to the same memory location (i.e., if they are the same object).\n",
        "Even if two objects have the same value, is will return False if they are stored in different memory locations."
      ]
    },
    {
      "cell_type": "markdown",
      "metadata": {
        "id": "w53eJmeUTuud"
      },
      "source": [
        "8. What are logical operators in Python?\n",
        "Logical operators in Python are used to combine conditional statements and evaluate expressions based on logic. They help in decision-making by returning a boolean value (True or False).\n",
        "\n",
        "Python has three main logical operators:\n",
        "\n",
        "and: Returns True if both conditions are true.\n",
        "Logical operators are essential for writing complex conditional statements in Python programs."
      ]
    },
    {
      "cell_type": "markdown",
      "metadata": {
        "id": "FvME7g4MVU0r"
      },
      "source": [
        "9. What is type casting in Python?\n",
        "- Type casting in Python refers to the process of converting one data type into\n",
        "  another. It allows you to explicitly change the type of a variable, such as converting an integer into a string or vice versa.\n",
        "\n",
        "  Python provides built-in functions for type casting, such as:\n",
        "\n",
        " int(): Converts a value into an integer.\n",
        " str(): Converts a value into a string.\n",
        " float(): Converts a value into a floating-point number."
      ]
    },
    {
      "cell_type": "markdown",
      "metadata": {
        "id": "EecM7FuWWiQy"
      },
      "source": [
        "10. What is the difference between implicit and explicit type casting?\n",
        "\n",
        "Implicit Type Casting (Automatic Type Casting):\n",
        "Implicit type casting, also known as automatic type conversion, is performed by Python automatically when it needs to convert a smaller data type to a larger one (e.g., from int to float). This is done without any user intervention and ensures that data remains accurate when performing operations. Python handles this type of casting automatically whenever necessary.\n",
        "\n",
        "Explicit Type Casting (Type Conversion):\n",
        "Explicit type casting, also known as manual type conversion, requires the programmer to specify the type conversion using built-in functions like int(), float(), or str(). This type of casting is done when you want to convert data from one type to another in a controlled way."
      ]
    },
    {
      "cell_type": "markdown",
      "metadata": {
        "id": "kYkXA2hTWoFt"
      },
      "source": [
        "11. What is the purpose of conditional statements in Python?\n",
        "\n",
        "Conditional statements in Python allow you to execute specific blocks of code based on whether a condition is True or False. They are essential for decision-making in programming, enabling the program to behave differently depending on different inputs or situations.\n",
        "\n",
        "The primary conditional statements in Python are:\n",
        "\n",
        "if: Executes a block of code if the condition is True.\n",
        "elif: Stands for \"else if.\" It is used to check multiple conditions when the previous if or elif conditions are False.\n",
        "else: Executes a block of code if none of the preceding conditions are True.\n"
      ]
    },
    {
      "cell_type": "markdown",
      "metadata": {
        "id": "V_5zuF60WwWg"
      },
      "source": [
        "12. How does the elif statement work?\n",
        "\n",
        "  The elif (short for \"else if\") statement in Python is used to check multiple conditions in a sequence, following an if statement. It allows you to test additional conditions if the initial if condition is not met. If the if condition evaluates to False, Python will check the conditions in the elif blocks one by one, and if any of them are True, the corresponding block of code will be executed. If none of the conditions in the if or elif statements are True, the code inside the else block (if provided) will execute.\n",
        "\n",
        "  First, the if statement checks if x is greater than 20. Since it’s not, Python moves to the elif statement.\n",
        "The elif statement checks if x is greater than 5. Since this is true, the corresponding block is executed, and the output will be \"x is greater than 5 but less than or equal to 20\".\n",
        "If neither the if nor the elif conditions are true, the else block will execute.\n",
        "Key Points:\n",
        "\n",
        "You can have multiple elif statements to check more than one condition.\n",
        "If the if condition is True, the elif and else blocks are skipped.\n",
        "The elif statement is helpful when you need to check for several conditions that are mutually exclusive."
      ]
    },
    {
      "cell_type": "markdown",
      "metadata": {
        "id": "OehBcX3iXAv6"
      },
      "source": [
        "13. What is the difference between for and while loops?\n",
        "\n",
        "Both for and while loops are used for repeating a block of code multiple times, but they differ in how they control the flow of execution.\n",
        "\n",
        "1. for loop:\n",
        "Purpose: The for loop is generally used when you know in advance how many times you need to iterate over a sequence (like a list, tuple, or range).\n",
        "How it works: The loop iterates over a sequence (e.g., a range or a collection), executing the block of code once for each item in the sequence.\n",
        "\n",
        "2. while loop:\n",
        "Purpose: The while loop is used when you want to repeat a block of code an indefinite number of times, as long as a certain condition is True.\n",
        "How it works: The loop will continue to run as long as the condition specified remains True. If the condition is False at the start, the code inside the loop will not run at all."
      ]
    },
    {
      "cell_type": "markdown",
      "metadata": {
        "id": "hFtHLKleXVOp"
      },
      "source": [
        "14. Scenario: Waiting for User Input Until a Valid Response Is Given\n",
        "\n",
        "Imagine you are writing a program that asks the user to input their age, but you want to ensure that the input is valid (e.g., a positive integer). The loop should continue asking the user for input until a valid response is entered. Since you don’t know in advance how many attempts the user will need to enter a valid age, a while loop is more suitable here.\n",
        "\n",
        "Explanation:\n",
        "The while loop runs indefinitely (due to True being always true) until a valid input is entered.\n",
        "The condition inside the loop checks whether the input is a positive integer.\n",
        "If the input is valid, the loop exits using break.\n",
        "If the input is invalid, the loop continues to prompt the user for a valid response.\n",
        "Why while is more suitable:\n",
        "The while loop is ideal here because the number of iterations is unknown and depends on the user’s input. The loop should only stop when the user provides a valid response, making it more flexible than a for loop, which requires a fixed number of iterations.\n"
      ]
    },
    {
      "cell_type": "markdown",
      "metadata": {
        "id": "A6O4QyODXyKW"
      },
      "source": [
        "# Practical Questions"
      ]
    },
    {
      "cell_type": "markdown",
      "metadata": {
        "id": "P5e4dkJ1790r"
      },
      "source": [
        "1. Write a Python program to print \"Hello, World!\n",
        "\n",
        "ans -"
      ]
    },
    {
      "cell_type": "code",
      "execution_count": null,
      "metadata": {
        "colab": {
          "base_uri": "https://localhost:8080/"
        },
        "id": "v_vK96ZhTrtA",
        "outputId": "197733e1-0394-47ef-b799-d9af60f6eb49"
      },
      "outputs": [
        {
          "name": "stdout",
          "output_type": "stream",
          "text": [
            "hello world\n"
          ]
        }
      ],
      "source": [
        "print(\"hello world\")"
      ]
    },
    {
      "cell_type": "markdown",
      "metadata": {
        "id": "fBgUFxyi8av_"
      },
      "source": [
        "2. Write a Python program that displays your name and age\n",
        "\n",
        "ans -"
      ]
    },
    {
      "cell_type": "code",
      "execution_count": null,
      "metadata": {
        "colab": {
          "base_uri": "https://localhost:8080/"
        },
        "id": "eCls63fx8KG_",
        "outputId": "9e8a82d1-f40e-4c57-fe3b-5ce561e2dd37"
      },
      "outputs": [
        {
          "name": "stdout",
          "output_type": "stream",
          "text": [
            "Please enter your namekartik sharma\n",
            "Please enter your age 23\n"
          ]
        }
      ],
      "source": [
        "Name = input(\"Please enter your name\")\n",
        "Age = input(\"Please enter your age\")"
      ]
    },
    {
      "cell_type": "markdown",
      "metadata": {
        "id": "LYttF-PE9q_U"
      },
      "source": [
        "3. Write code to print all the pre-defined keywords in Python using the keyword library\n",
        "\n",
        "ans -"
      ]
    },
    {
      "cell_type": "code",
      "execution_count": null,
      "metadata": {
        "colab": {
          "background_save": true,
          "base_uri": "https://localhost:8080/"
        },
        "id": "PZWXacn98vJf",
        "outputId": "0df497c7-f6c8-41dd-b5f8-24c9af43c19c"
      },
      "outputs": [
        {
          "ename": "SyntaxError",
          "evalue": "incomplete input (<ipython-input-6-710003f390e0>, line 1)",
          "output_type": "error",
          "traceback": [
            "\u001b[0;36m  File \u001b[0;32m\"<ipython-input-6-710003f390e0>\"\u001b[0;36m, line \u001b[0;32m1\u001b[0m\n\u001b[0;31m    help(\"keywords\"\u001b[0m\n\u001b[0m                   ^\u001b[0m\n\u001b[0;31mSyntaxError\u001b[0m\u001b[0;31m:\u001b[0m incomplete input\n"
          ]
        }
      ],
      "source": [
        "help(\"keywords\")"
      ]
    },
    {
      "cell_type": "markdown",
      "metadata": {
        "id": "1pDUiOTT_Lj8"
      },
      "source": []
    },
    {
      "cell_type": "markdown",
      "metadata": {
        "id": "nhKWR45E9_tN"
      },
      "source": [
        "4. Write a program that checks if a given word is a Python keyword\n",
        "\n",
        "ans -"
      ]
    },
    {
      "cell_type": "code",
      "execution_count": 12,
      "metadata": {
        "id": "nVddmdRV93Fo",
        "colab": {
          "base_uri": "https://localhost:8080/"
        },
        "outputId": "f1b8e833-ab9d-42ab-ffd6-2bfdf560956a"
      },
      "outputs": [
        {
          "output_type": "stream",
          "name": "stdout",
          "text": [
            "Enter a word to check if it is a Python keyword: if\n",
            "'if' is a Python keyword.\n"
          ]
        }
      ],
      "source": [
        "import keyword  # Import the keyword module\n",
        "\n",
        "# Input: Prompt the user to enter a word\n",
        "word = input(\"Enter a word to check if it is a Python keyword: \")\n",
        "\n",
        "# Check if the word is a Python keyword\n",
        "if keyword.iskeyword(word):\n",
        "    print(f\"'{word}' is a Python keyword.\")\n",
        "else:\n",
        "    print(f\"'{word}' is NOT a Python keyword.\")\n"
      ]
    },
    {
      "cell_type": "markdown",
      "source": [
        "Q-5 Create a list and tuple in Python, and demonstrate how attempting to change an element works differently\n",
        "for each\n",
        "\n",
        "Ans -"
      ],
      "metadata": {
        "id": "wOrgDOhaWu2l"
      }
    },
    {
      "cell_type": "code",
      "execution_count": 13,
      "metadata": {
        "id": "--CaFwTSCjVd",
        "colab": {
          "base_uri": "https://localhost:8080/"
        },
        "outputId": "347e07a6-6d11-4d57-f5f1-e7ca09e7f739"
      },
      "outputs": [
        {
          "output_type": "stream",
          "name": "stdout",
          "text": [
            "Original list: [1, 2, 3, 4]\n",
            "Modified list: [1, 99, 3, 4]\n",
            "\n",
            "Original tuple: (1, 2, 3, 4)\n",
            "Error: 'tuple' object does not support item assignment\n"
          ]
        }
      ],
      "source": [
        "my_list = [1, 2, 3, 4]\n",
        "my_tuple = (1, 2, 3, 4)\n",
        "\n",
        "# Modifying an element in the list\n",
        "print(\"Original list:\", my_list)\n",
        "my_list[1] = 99  # Change the second element (index 1)\n",
        "print(\"Modified list:\", my_list)\n",
        "\n",
        "# Attempting to modify an element in the tuple\n",
        "print(\"\\nOriginal tuple:\", my_tuple)\n",
        "try:\n",
        "    my_tuple[1] = 99  # Attempt to change the second element (index 1)\n",
        "except TypeError as e:\n",
        "    print(\"Error:\", e)"
      ]
    },
    {
      "cell_type": "markdown",
      "source": [
        "Q-6 Write a function to demonstrate the behavior of mutable and immutable arguments\n",
        "\n",
        "ANS -"
      ],
      "metadata": {
        "id": "8wpt8bxdX385"
      }
    },
    {
      "cell_type": "code",
      "source": [
        "# Function to demonstrate behavior of mutable and immutable arguments\n",
        "def demonstrate_mutable_immutable(mutable_list, immutable_string):\n",
        "    print(\"Inside function:\")\n",
        "\n",
        "    # Modify mutable object (list)\n",
        "    mutable_list.append(\"Modified\")\n",
        "    print(\"Modified mutable list:\", mutable_list)\n",
        "\n",
        "    # Attempt to modify immutable object (string)\n",
        "    immutable_string += \" Modified\"\n",
        "    print(\"Modified immutable string:\", immutable_string)\n",
        "\n",
        "\n",
        "# Create a mutable object (list) and an immutable object (string)\n",
        "original_list = [\"Original\"]\n",
        "original_string = \"Original\"\n",
        "\n",
        "# Print before function call\n",
        "print(\"Before function call:\")\n",
        "print(\"Original mutable list:\", original_list)\n",
        "print(\"Original immutable string:\", original_string)\n",
        "\n",
        "# Call the function\n",
        "demonstrate_mutable_immutable(original_list, original_string)\n",
        "\n",
        "# Print after function call\n",
        "print(\"\\nAfter function call:\")\n",
        "print(\"Original mutable list:\", original_list)  # List gets modified\n",
        "print(\"Original immutable string:\", original_string)  # String remains unchanged\n"
      ],
      "metadata": {
        "colab": {
          "base_uri": "https://localhost:8080/"
        },
        "id": "dS8PemvwX2Tb",
        "outputId": "48ce566d-cba8-43d9-bea1-28435d8e5b19"
      },
      "execution_count": 14,
      "outputs": [
        {
          "output_type": "stream",
          "name": "stdout",
          "text": [
            "Before function call:\n",
            "Original mutable list: ['Original']\n",
            "Original immutable string: Original\n",
            "Inside function:\n",
            "Modified mutable list: ['Original', 'Modified']\n",
            "Modified immutable string: Original Modified\n",
            "\n",
            "After function call:\n",
            "Original mutable list: ['Original', 'Modified']\n",
            "Original immutable string: Original\n"
          ]
        }
      ]
    },
    {
      "cell_type": "markdown",
      "source": [
        "Q-7  Write a program to demonstrate the use of logical operators?\n",
        "\n",
        "ans -"
      ],
      "metadata": {
        "id": "31JIx8DGZAZg"
      }
    },
    {
      "cell_type": "code",
      "source": [
        "# Logical operators example: Easy version\n",
        "\n",
        "# Example values\n",
        "a = 10\n",
        "b = 5\n",
        "\n",
        "# Logical AND: Both conditions must be true\n",
        "print(\"Logical AND:\")\n",
        "print(a > 0 and b > 0)  # True because both a and b are positive\n",
        "\n",
        "# Logical OR: At least one condition must be true\n",
        "print(\"\\nLogical OR:\")\n",
        "print(a > 0 or b < 0)  # True because a > 0 (first condition is true)\n",
        "\n",
        "# Logical NOT: Reverse the condition\n",
        "print(\"\\nLogical NOT:\")\n",
        "print(not(a > 0))  # False because a > 0 is True, but 'not' makes it False\n"
      ],
      "metadata": {
        "colab": {
          "base_uri": "https://localhost:8080/"
        },
        "id": "6mA4IeEVY5sX",
        "outputId": "e0a326f4-812a-448b-ea78-99951acd10e7"
      },
      "execution_count": 15,
      "outputs": [
        {
          "output_type": "stream",
          "name": "stdout",
          "text": [
            "Logical AND:\n",
            "True\n",
            "\n",
            "Logical OR:\n",
            "True\n",
            "\n",
            "Logical NOT:\n",
            "False\n"
          ]
        }
      ]
    },
    {
      "cell_type": "markdown",
      "source": [
        "Q-8 Write a Python program to convert user input from string to integer, float, and boolean types\n",
        "\n",
        "Ans -"
      ],
      "metadata": {
        "id": "BZMxMNqwZ4M6"
      }
    },
    {
      "cell_type": "code",
      "source": [
        "# Program to convert user input to integer, float, and boolean types\n",
        "\n",
        "# Taking input from the user\n",
        "user_input = input(\"Enter a value: \")\n",
        "\n",
        "# Converting to integer\n",
        "try:\n",
        "    int_value = int(user_input)\n",
        "    print(\"Converted to Integer:\", int_value)\n",
        "except ValueError:\n",
        "    print(\"Cannot convert to Integer.\")\n",
        "\n",
        "# Converting to float\n",
        "try:\n",
        "    float_value = float(user_input)\n",
        "    print(\"Converted to Float:\", float_value)\n",
        "except ValueError:\n",
        "    print(\"Cannot convert to Float.\")\n",
        "\n",
        "# Converting to boolean\n",
        "bool_value = bool(user_input)\n",
        "print(\"Converted to Boolean:\", bool_value)\n"
      ],
      "metadata": {
        "colab": {
          "base_uri": "https://localhost:8080/"
        },
        "id": "g_54GzJQZq8k",
        "outputId": "da19d5e6-6938-492b-a914-cad74b396ec1"
      },
      "execution_count": 23,
      "outputs": [
        {
          "output_type": "stream",
          "name": "stdout",
          "text": [
            "Enter a value: 10\n",
            "Converted to Integer: 10\n",
            "Converted to Float: 10.0\n",
            "Converted to Boolean: True\n"
          ]
        }
      ]
    },
    {
      "cell_type": "markdown",
      "source": [
        "Q-9  Write code to demonstrate type casting with list elements\n",
        "\n",
        "ans-9"
      ],
      "metadata": {
        "id": "5PYlo3MmdMXg"
      }
    },
    {
      "cell_type": "code",
      "source": [
        "# Demonstrating type casting with list elements\n",
        "\n",
        "# Original list with mixed data types (strings, integers, and floats)\n",
        "my_list = [\"10\", \"20.5\", \"30\", \"40.8\", \"50\"]\n",
        "\n",
        "# Convert elements of the list to integers\n",
        "int_list = [int(float(x)) for x in my_list]  # Convert to float first to handle decimal strings, then to int\n",
        "print(\"List elements converted to integers:\", int_list)\n",
        "\n",
        "# Convert elements of the list to floats\n",
        "float_list = [float(x) for x in my_list]\n",
        "print(\"List elements converted to floats:\", float_list)\n",
        "\n",
        "# Convert elements of the list to booleans\n",
        "bool_list = [bool(x) for x in my_list]\n",
        "print(\"List elements converted to booleans:\", bool_list)\n"
      ],
      "metadata": {
        "colab": {
          "base_uri": "https://localhost:8080/"
        },
        "id": "UdmQzUSwdDxC",
        "outputId": "559503d5-4fc9-459a-92dc-d114e2d49dc2"
      },
      "execution_count": 24,
      "outputs": [
        {
          "output_type": "stream",
          "name": "stdout",
          "text": [
            "List elements converted to integers: [10, 20, 30, 40, 50]\n",
            "List elements converted to floats: [10.0, 20.5, 30.0, 40.8, 50.0]\n",
            "List elements converted to booleans: [True, True, True, True, True]\n"
          ]
        }
      ]
    },
    {
      "cell_type": "markdown",
      "source": [
        "Q - 10 Write a program that checks if a number is positive, negative, or zero0"
      ],
      "metadata": {
        "id": "DTjHSkG3d0rQ"
      }
    },
    {
      "cell_type": "code",
      "source": [
        "# Program to check if a number is positive, negative, or zero\n",
        "\n",
        "# Input: Taking a number from the user\n",
        "number = float(input(\"Enter a number: \"))\n",
        "\n",
        "# Check conditions\n",
        "if number > 0:\n",
        "    print(\"The number is Positive.\")\n",
        "elif number < 0:\n",
        "    print(\"The number is Negative.\")\n",
        "else:\n",
        "    print(\"The number is Zero.\")\n"
      ],
      "metadata": {
        "colab": {
          "base_uri": "https://localhost:8080/"
        },
        "id": "9S3QR-vrdbyA",
        "outputId": "a9d52ec6-ce9c-49ef-f88a-71ff9b0394e2"
      },
      "execution_count": 25,
      "outputs": [
        {
          "output_type": "stream",
          "name": "stdout",
          "text": [
            "Enter a number: 5\n",
            "The number is Positive.\n"
          ]
        }
      ]
    },
    {
      "cell_type": "markdown",
      "source": [
        "Q - 11 Write a for loop to print numbers from 1 to 10\n",
        "\n",
        "ANS -"
      ],
      "metadata": {
        "id": "B2h8i7oYeLXw"
      }
    },
    {
      "cell_type": "code",
      "source": [
        "# For loop to print numbers from 1 to 100\n",
        "for num in range(1, 11):\n",
        "    print(num)\n"
      ],
      "metadata": {
        "colab": {
          "base_uri": "https://localhost:8080/"
        },
        "id": "hlDFbjjveBco",
        "outputId": "2f99238a-8baf-4594-c30d-d9b6cf3bdf45"
      },
      "execution_count": 26,
      "outputs": [
        {
          "output_type": "stream",
          "name": "stdout",
          "text": [
            "1\n",
            "2\n",
            "3\n",
            "4\n",
            "5\n",
            "6\n",
            "7\n",
            "8\n",
            "9\n",
            "10\n"
          ]
        }
      ]
    },
    {
      "cell_type": "markdown",
      "source": [
        "Q-12 Write a Python program to find the sum of all even numbers between 1 and 50\n",
        "\n",
        "ans -"
      ],
      "metadata": {
        "id": "lsArNcIreeku"
      }
    },
    {
      "cell_type": "code",
      "source": [
        "# Program to find the sum of all even numbers between 1 and 50\n",
        "\n",
        "# Initialize sum variable\n",
        "sum_of_even_numbers = 0\n",
        "\n",
        "# Loop through numbers from 1 to 50\n",
        "for num in range(1, 51):\n",
        "    if num % 2 == 0:  # Check if the number is even\n",
        "        sum_of_even_numbers += num  # Add to the sum\n",
        "\n",
        "# Print the result\n",
        "print(\"Sum of all even numbers between 1 and 50:\", sum_of_even_numbers)\n"
      ],
      "metadata": {
        "colab": {
          "base_uri": "https://localhost:8080/"
        },
        "id": "Bshxne1oeatZ",
        "outputId": "381c9650-335a-4595-a48d-1c4c6071c71f"
      },
      "execution_count": 27,
      "outputs": [
        {
          "output_type": "stream",
          "name": "stdout",
          "text": [
            "Sum of all even numbers between 1 and 50: 650\n"
          ]
        }
      ]
    },
    {
      "cell_type": "markdown",
      "source": [
        "Q - 13 Write a program to reverse a string using a while loop\n",
        "\n",
        "ans -"
      ],
      "metadata": {
        "id": "VcIIusLvexPy"
      }
    },
    {
      "cell_type": "code",
      "source": [
        "# Program to reverse a string using a while loop\n",
        "\n",
        "# Input: Take a string from the user\n",
        "input_string = input(\"Enter a string: \")\n",
        "\n",
        "# Initialize an empty string to store the reversed string\n",
        "reversed_string = \"\"\n",
        "\n",
        "# Initialize a counter variable to start from the last character\n",
        "index = len(input_string) - 1\n",
        "\n",
        "# Use a while loop to iterate over the string in reverse\n",
        "while index >= 0:\n",
        "    reversed_string += input_string[index]  # Add the character to the reversed string\n",
        "    index -= 1  # Move to the previous character\n",
        "\n",
        "# Output the reversed string\n",
        "print(\"Reversed string:\", reversed_string)\n"
      ],
      "metadata": {
        "colab": {
          "base_uri": "https://localhost:8080/"
        },
        "id": "K3Fu0AUCetFz",
        "outputId": "986f42da-8ecd-4685-b68a-659add15500f"
      },
      "execution_count": 29,
      "outputs": [
        {
          "output_type": "stream",
          "name": "stdout",
          "text": [
            "Enter a string: \"ajay\"\n",
            "Reversed string: \"yaja\"\n"
          ]
        }
      ]
    },
    {
      "cell_type": "markdown",
      "source": [
        "Q - 14  Write a Python program to calculate the factorial of a number provided by the user using a while loop.\n",
        "\n",
        "ANS -"
      ],
      "metadata": {
        "id": "9lXK1iCufD50"
      }
    },
    {
      "cell_type": "code",
      "source": [
        "# Program to calculate the factorial of a number using a while loop\n",
        "\n",
        "# Input: Take a number from the user\n",
        "num = int(input(\"Enter a number: \"))\n",
        "\n",
        "# Initialize variables\n",
        "factorial = 1\n",
        "counter = num\n",
        "\n",
        "# Use a while loop to calculate the factorial\n",
        "while counter > 1:\n",
        "    factorial *= counter  # Multiply the factorial by the current counter value\n",
        "    counter -= 1  # Decrement the counter\n",
        "\n",
        "# Output the result\n",
        "print(f\"The factorial of {num} is {factorial}\")\n"
      ],
      "metadata": {
        "colab": {
          "base_uri": "https://localhost:8080/"
        },
        "id": "-kAMDpD1e5Ku",
        "outputId": "77e5e5e9-794d-402c-bded-a012ad00b90b"
      },
      "execution_count": 30,
      "outputs": [
        {
          "output_type": "stream",
          "name": "stdout",
          "text": [
            "Enter a number: 10\n",
            "The factorial of 10 is 3628800\n"
          ]
        }
      ]
    },
    {
      "cell_type": "markdown",
      "source": [
        "#Ques No is 6 or 7 are same"
      ],
      "metadata": {
        "id": "sc0vVUIffRiX"
      }
    },
    {
      "cell_type": "markdown",
      "source": [
        "#Thank You"
      ],
      "metadata": {
        "id": "H6N5cKqTfXCM"
      }
    },
    {
      "cell_type": "code",
      "source": [],
      "metadata": {
        "id": "KiryOCdNfNPn"
      },
      "execution_count": null,
      "outputs": []
    }
  ],
  "metadata": {
    "colab": {
      "provenance": []
    },
    "kernelspec": {
      "display_name": "Python 3",
      "name": "python3"
    },
    "language_info": {
      "name": "python"
    }
  },
  "nbformat": 4,
  "nbformat_minor": 0
}